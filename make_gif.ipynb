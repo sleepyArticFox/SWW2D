{
 "cells": [
  {
   "cell_type": "code",
   "execution_count": 9,
   "id": "c9c3881c",
   "metadata": {},
   "outputs": [],
   "source": [
    "import glob\n",
    "from PIL import Image"
   ]
  },
  {
   "cell_type": "code",
   "execution_count": 10,
   "id": "e86d2fde",
   "metadata": {},
   "outputs": [],
   "source": [
    "# 이미지 파일명\n",
    "input_name = 'sww2d_height_'\n",
    "     \n",
    "# 이미지 파일명의 리스트 작성\n",
    "pic_list = glob.glob('*.tiff')\n",
    "     \n",
    "# 이미지 리스트\n",
    "ims = []\n",
    "\n",
    "# 이미지 파일을 읽어들여서, 이미지 리스트에 push\n",
    "for i in range(len(pic_list)):\n",
    "         \n",
    "    # 각 시간스텝의 이미지 파일명\n",
    "    im_name = input_name + str(i).zfill(5) + '.tiff'\n",
    "    im = Image.open(im_name)\n",
    "    ims.append(im)\n",
    "\n",
    "# loop=0 : 무한반복\n",
    "ims[0].save('sww2d_height.gif',save_all=True, append_images=ims[1:], optimize=True, duration=10, loop=0) "
   ]
  },
  {
   "cell_type": "code",
   "execution_count": null,
   "id": "8bca49e9",
   "metadata": {},
   "outputs": [],
   "source": []
  }
 ],
 "metadata": {
  "kernelspec": {
   "display_name": "Python 3 (ipykernel)",
   "language": "python",
   "name": "python3"
  },
  "language_info": {
   "codemirror_mode": {
    "name": "ipython",
    "version": 3
   },
   "file_extension": ".py",
   "mimetype": "text/x-python",
   "name": "python",
   "nbconvert_exporter": "python",
   "pygments_lexer": "ipython3",
   "version": "3.9.7"
  }
 },
 "nbformat": 4,
 "nbformat_minor": 5
}
